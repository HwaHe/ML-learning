{
 "cells": [
  {
   "cell_type": "markdown",
   "metadata": {},
   "source": [
    "python实现，遍历所有数据点，找出$n$个距离最近的点的分类情况，少数服从多数"
   ]
  },
  {
   "cell_type": "code",
   "execution_count": 1,
   "metadata": {},
   "outputs": [],
   "source": [
    "import numpy as np\n",
    "import random\n",
    "import math\n",
    "import time\n",
    "import sklearn.datasets as datasets\n",
    "from sklearn.model_selection import train_test_split\n",
    "from collections import Counter"
   ]
  },
  {
   "cell_type": "code",
   "execution_count": 2,
   "metadata": {},
   "outputs": [],
   "source": [
    "# 实验参数：选择不同的数据集\n",
    "dataset = datasets.load_iris()\n",
    "#dataset = datasets.load_wine()\n",
    "#dataset = datasets.load_breast_cancer()"
   ]
  },
  {
   "cell_type": "code",
   "execution_count": 3,
   "metadata": {},
   "outputs": [
    {
     "name": "stdout",
     "output_type": "stream",
     "text": [
      "======================= dataset information =======================\n",
      "Total sample number: 75, Feature dimension: 4, Category number: 3\n",
      "category 1 has 24 samples\n",
      "category 2 has 27 samples\n",
      "category 0 has 24 samples\n",
      "Training sample number: 60, Test sample number: 15\n"
     ]
    }
   ],
   "source": [
    "# 实验参数：选择不同的数据规模\n",
    "sample_rate = 0.5 # 采样率（可以选择小于1）\n",
    "assert sample_rate>0 and sample_rate<=1\n",
    "nSample = math.floor(dataset.data.shape[0]*sample_rate)\n",
    "idx = random.sample(range(dataset.data.shape[0]), nSample)\n",
    "\n",
    "X = dataset.data[idx][:]\n",
    "y = dataset.target[idx][:]\n",
    "y_stat = Counter(y)\n",
    "print('======================= dataset information =======================')\n",
    "print('Total sample number: %d, Feature dimension: %d, Category number: %d' % (X.shape[0], X.shape[1], len(y_stat)))\n",
    "for category in y_stat:\n",
    "    print('category %d has %d samples' % (category, y_stat[category]))\n",
    "\n",
    "X_train, X_test, y_train, y_test = train_test_split(X, y, test_size=0.2)\n",
    "print('Training sample number: %d, Test sample number: %d' % (X_train.shape[0], X_test.shape[0]))"
   ]
  },
  {
   "cell_type": "code",
   "execution_count": 4,
   "metadata": {},
   "outputs": [],
   "source": [
    "from functools import wraps\n",
    "def timeit(func):\n",
    "    @wraps(func)\n",
    "    def wrapper(*args, **kwargs):\n",
    "        start=time.time()\n",
    "        result=func(*args, **kwargs)\n",
    "        end=time.time()\n",
    "        print(\"It takes %.4fs for function[%s] to calculate precision over test set\"%(end-start, func.__name__))\n",
    "        return result\n",
    "    return wrapper"
   ]
  },
  {
   "cell_type": "code",
   "execution_count": 5,
   "metadata": {},
   "outputs": [],
   "source": [
    "#KNN类定义\n",
    "class KNN:\n",
    "    def __init__(self, X_train, y_train, n_neighbors=3, p=2): # 通过n_neighbors修改k值\n",
    "        \"\"\"\n",
    "        parameter: n_neighbors 临近点个数\n",
    "        parameter: p 距离度量\n",
    "        \"\"\"\n",
    "        self.n = n_neighbors\n",
    "        self.p = p\n",
    "        self.X_train = X_train\n",
    "        self.y_train = y_train\n",
    "\n",
    "    def predict(self, X):\n",
    "        # 取出n个点\n",
    "        knn_list = []\n",
    "        for i in range(self.n):\n",
    "#             print(i)\n",
    "            dist = np.linalg.norm(X - self.X_train[i], ord=self.p)\n",
    "            knn_list.append((dist, self.y_train[i]))\n",
    "\n",
    "        for i in range(self.n, len(self.X_train)):\n",
    "            max_index = knn_list.index(max(knn_list, key=lambda x: x[0]))\n",
    "            dist = np.linalg.norm(X - self.X_train[i], ord=self.p)\n",
    "            if knn_list[max_index][0] > dist:\n",
    "                knn_list[max_index] = (dist, self.y_train[i])\n",
    "\n",
    "        # 统计\n",
    "        knn = [k[-1] for k in knn_list]\n",
    "        count_pairs = Counter(knn)\n",
    "#         max_count = sorted(count_pairs, key=lambda x: x)[-1]\n",
    "        max_count = sorted(count_pairs.items(), key=lambda x: x[1])[-1][0]\n",
    "        return max_count\n",
    "    \n",
    "    def score(self, X_test, y_test):\n",
    "        right_count = 0\n",
    "        n = 10\n",
    "        for X, y in zip(X_test, y_test):\n",
    "            label = self.predict(X)\n",
    "            if label == y:\n",
    "                right_count += 1\n",
    "        return right_count / len(X_test)"
   ]
  },
  {
   "cell_type": "code",
   "execution_count": 6,
   "metadata": {},
   "outputs": [
    {
     "name": "stdout",
     "output_type": "stream",
     "text": [
      "precision rate: 93.33%\n"
     ]
    }
   ],
   "source": [
    "# 实验参数：选择不同的K值\n",
    "K=3\n",
    "assert K<=X_train.shape[0]\n",
    "clf = KNN(X_train, y_train, K)\n",
    "print('precision rate: {:.2%}'.format(clf.score(X_test, y_test)))"
   ]
  },
  {
   "cell_type": "code",
   "execution_count": 7,
   "metadata": {},
   "outputs": [
    {
     "name": "stdout",
     "output_type": "stream",
     "text": [
      "Test Point category: 2\n"
     ]
    }
   ],
   "source": [
    "# 实验参数：选择不同的测试样本\n",
    "test_idx = 0\n",
    "assert test_idx<X_test.shape[0]\n",
    "test_point = X_test[0]\n",
    "print('Test Point category: {}'.format(clf.predict(test_point)))"
   ]
  },
  {
   "cell_type": "markdown",
   "metadata": {},
   "source": [
    "## 作业部分"
   ]
  },
  {
   "cell_type": "markdown",
   "metadata": {},
   "source": [
    "### 记录不同参数组合的准确度效果"
   ]
  },
  {
   "cell_type": "code",
   "execution_count": 8,
   "metadata": {},
   "outputs": [],
   "source": [
    "import time\n",
    "import pandas as pd\n",
    "import matplotlib as mpl\n",
    "import matplotlib.pyplot as plt\n",
    "from mlxtend.preprocessing import minmax_scaling\n",
    "%matplotlib inline\n",
    "mpl.style.use('seaborn')"
   ]
  },
  {
   "cell_type": "code",
   "execution_count": 9,
   "metadata": {},
   "outputs": [],
   "source": [
    "dataset = datasets.load_iris()\n",
    "sample_rates=[0.2, 0.4, 0.7, 1]\n",
    "Ks=range(1, 21, 2)\n",
    "freq=10\n",
    "random.seed(time.time())"
   ]
  },
  {
   "cell_type": "code",
   "execution_count": 10,
   "metadata": {},
   "outputs": [],
   "source": [
    "def adjust(dataset, sample_rates, Ks, freq=10):\n",
    "    statistics={}\n",
    "    \n",
    "    data = minmax_scaling(dataset.data, columns=list(range(dataset.data.shape[1])))\n",
    "    for rate in sample_rates:\n",
    "        for K in Ks:\n",
    "            for i in range(freq):\n",
    "                nSample=math.floor(data.shape[0]*rate)\n",
    "                idx=random.sample(range(data.shape[0]), nSample)\n",
    "\n",
    "                X=data[idx, :]\n",
    "                y=dataset.target[idx]\n",
    "\n",
    "                y_stat = Counter(y)\n",
    "    #             print('==========================dataset information=========================')\n",
    "    #             print('Total sample number: %d, Feature dimension: %d, Category number: %d'%(X.shape[0], X.shape[1], len(y_stat)))\n",
    "\n",
    "    #             for category in y_stat:\n",
    "    #                 print('Category %d has %d samples'%(category, y_stat[category]))\n",
    "\n",
    "                X_train, X_test, y_train, y_test = train_test_split(X, y, test_size=0.3)\n",
    "    #             print('Training sample number: %d, Test sample number: %d'%(X_train.shape[0], X_test.shape[0]))\n",
    "\n",
    "                clf=KNN(X_train, y_train, K)\n",
    "\n",
    "                statistics[rate][K]=statistics.setdefault(rate, {}).setdefault(K, 0)+clf.score(X_test, y_test)\n",
    "\n",
    "    #         print('\\n\\n')\n",
    "            statistics[rate][K]/=freq\n",
    "        \n",
    "    return pd.DataFrame(statistics)*100"
   ]
  },
  {
   "cell_type": "code",
   "execution_count": 11,
   "metadata": {},
   "outputs": [],
   "source": [
    "iris = adjust(dataset, sample_rates, range(1, 21, 2))"
   ]
  },
  {
   "cell_type": "code",
   "execution_count": 12,
   "metadata": {},
   "outputs": [
    {
     "data": {
      "text/html": [
       "<div>\n",
       "<style scoped>\n",
       "    .dataframe tbody tr th:only-of-type {\n",
       "        vertical-align: middle;\n",
       "    }\n",
       "\n",
       "    .dataframe tbody tr th {\n",
       "        vertical-align: top;\n",
       "    }\n",
       "\n",
       "    .dataframe thead th {\n",
       "        text-align: right;\n",
       "    }\n",
       "</style>\n",
       "<table border=\"1\" class=\"dataframe\">\n",
       "  <thead>\n",
       "    <tr style=\"text-align: right;\">\n",
       "      <th></th>\n",
       "      <th>0.2</th>\n",
       "      <th>0.4</th>\n",
       "      <th>0.7</th>\n",
       "      <th>1.0</th>\n",
       "    </tr>\n",
       "  </thead>\n",
       "  <tbody>\n",
       "    <tr>\n",
       "      <th>1</th>\n",
       "      <td>93.333333</td>\n",
       "      <td>94.444444</td>\n",
       "      <td>94.6875</td>\n",
       "      <td>95.555556</td>\n",
       "    </tr>\n",
       "    <tr>\n",
       "      <th>3</th>\n",
       "      <td>92.222222</td>\n",
       "      <td>95.000000</td>\n",
       "      <td>96.2500</td>\n",
       "      <td>96.666667</td>\n",
       "    </tr>\n",
       "    <tr>\n",
       "      <th>5</th>\n",
       "      <td>87.777778</td>\n",
       "      <td>93.888889</td>\n",
       "      <td>97.1875</td>\n",
       "      <td>95.111111</td>\n",
       "    </tr>\n",
       "    <tr>\n",
       "      <th>7</th>\n",
       "      <td>94.444444</td>\n",
       "      <td>91.666667</td>\n",
       "      <td>97.1875</td>\n",
       "      <td>95.333333</td>\n",
       "    </tr>\n",
       "    <tr>\n",
       "      <th>9</th>\n",
       "      <td>75.555556</td>\n",
       "      <td>98.333333</td>\n",
       "      <td>94.0625</td>\n",
       "      <td>96.222222</td>\n",
       "    </tr>\n",
       "    <tr>\n",
       "      <th>11</th>\n",
       "      <td>72.222222</td>\n",
       "      <td>92.777778</td>\n",
       "      <td>94.3750</td>\n",
       "      <td>97.333333</td>\n",
       "    </tr>\n",
       "    <tr>\n",
       "      <th>13</th>\n",
       "      <td>53.333333</td>\n",
       "      <td>92.222222</td>\n",
       "      <td>94.3750</td>\n",
       "      <td>95.777778</td>\n",
       "    </tr>\n",
       "    <tr>\n",
       "      <th>15</th>\n",
       "      <td>62.222222</td>\n",
       "      <td>87.777778</td>\n",
       "      <td>96.2500</td>\n",
       "      <td>96.000000</td>\n",
       "    </tr>\n",
       "    <tr>\n",
       "      <th>17</th>\n",
       "      <td>58.888889</td>\n",
       "      <td>85.555556</td>\n",
       "      <td>94.3750</td>\n",
       "      <td>96.666667</td>\n",
       "    </tr>\n",
       "    <tr>\n",
       "      <th>19</th>\n",
       "      <td>37.777778</td>\n",
       "      <td>92.222222</td>\n",
       "      <td>94.3750</td>\n",
       "      <td>94.444444</td>\n",
       "    </tr>\n",
       "  </tbody>\n",
       "</table>\n",
       "</div>"
      ],
      "text/plain": [
       "          0.2        0.4      0.7        1.0\n",
       "1   93.333333  94.444444  94.6875  95.555556\n",
       "3   92.222222  95.000000  96.2500  96.666667\n",
       "5   87.777778  93.888889  97.1875  95.111111\n",
       "7   94.444444  91.666667  97.1875  95.333333\n",
       "9   75.555556  98.333333  94.0625  96.222222\n",
       "11  72.222222  92.777778  94.3750  97.333333\n",
       "13  53.333333  92.222222  94.3750  95.777778\n",
       "15  62.222222  87.777778  96.2500  96.000000\n",
       "17  58.888889  85.555556  94.3750  96.666667\n",
       "19  37.777778  92.222222  94.3750  94.444444"
      ]
     },
     "execution_count": 12,
     "metadata": {},
     "output_type": "execute_result"
    }
   ],
   "source": [
    "iris"
   ]
  },
  {
   "cell_type": "code",
   "execution_count": 13,
   "metadata": {},
   "outputs": [
    {
     "data": {
      "image/png": "[encoded data removed]",
      "text/plain": [
       "<Figure size 576x432 with 1 Axes>"
      ]
     },
     "metadata": {},
     "output_type": "display_data"
    }
   ],
   "source": [
    "axes_iris=iris.plot.line(\n",
    "    figsize=(8, 6),\n",
    "    rot=0,\n",
    "#     width=0.8,\n",
    "    xlabel='K',\n",
    "    ylabel='Precision(%)',\n",
    "    title='Dataset: iris'\n",
    ")\n",
    "axes_iris.legend(loc=1)\n",
    "axes_iris.set_xticks(Ks)\n",
    "plt.gcf().savefig('iris_statistics.png')"
   ]
  },
  {
   "cell_type": "code",
   "execution_count": 14,
   "metadata": {},
   "outputs": [],
   "source": [
    "breast_cancer = adjust(datasets.load_wine(), sample_rates, range(1, 21, 2))"
   ]
  },
  {
   "cell_type": "code",
   "execution_count": 15,
   "metadata": {},
   "outputs": [
    {
     "data": {
      "text/html": [
       "<div>\n",
       "<style scoped>\n",
       "    .dataframe tbody tr th:only-of-type {\n",
       "        vertical-align: middle;\n",
       "    }\n",
       "\n",
       "    .dataframe tbody tr th {\n",
       "        vertical-align: top;\n",
       "    }\n",
       "\n",
       "    .dataframe thead th {\n",
       "        text-align: right;\n",
       "    }\n",
       "</style>\n",
       "<table border=\"1\" class=\"dataframe\">\n",
       "  <thead>\n",
       "    <tr style=\"text-align: right;\">\n",
       "      <th></th>\n",
       "      <th>0.2</th>\n",
       "      <th>0.4</th>\n",
       "      <th>0.7</th>\n",
       "      <th>1.0</th>\n",
       "    </tr>\n",
       "  </thead>\n",
       "  <tbody>\n",
       "    <tr>\n",
       "      <th>1</th>\n",
       "      <td>94.545455</td>\n",
       "      <td>92.727273</td>\n",
       "      <td>97.105263</td>\n",
       "      <td>95.185185</td>\n",
       "    </tr>\n",
       "    <tr>\n",
       "      <th>3</th>\n",
       "      <td>95.454545</td>\n",
       "      <td>92.727273</td>\n",
       "      <td>96.052632</td>\n",
       "      <td>95.185185</td>\n",
       "    </tr>\n",
       "    <tr>\n",
       "      <th>5</th>\n",
       "      <td>90.909091</td>\n",
       "      <td>96.818182</td>\n",
       "      <td>96.315789</td>\n",
       "      <td>95.185185</td>\n",
       "    </tr>\n",
       "    <tr>\n",
       "      <th>7</th>\n",
       "      <td>94.545455</td>\n",
       "      <td>93.636364</td>\n",
       "      <td>93.947368</td>\n",
       "      <td>95.370370</td>\n",
       "    </tr>\n",
       "    <tr>\n",
       "      <th>9</th>\n",
       "      <td>80.000000</td>\n",
       "      <td>97.272727</td>\n",
       "      <td>97.631579</td>\n",
       "      <td>96.851852</td>\n",
       "    </tr>\n",
       "    <tr>\n",
       "      <th>11</th>\n",
       "      <td>80.909091</td>\n",
       "      <td>95.909091</td>\n",
       "      <td>96.315789</td>\n",
       "      <td>97.407407</td>\n",
       "    </tr>\n",
       "    <tr>\n",
       "      <th>13</th>\n",
       "      <td>75.454545</td>\n",
       "      <td>94.545455</td>\n",
       "      <td>95.263158</td>\n",
       "      <td>95.555556</td>\n",
       "    </tr>\n",
       "    <tr>\n",
       "      <th>15</th>\n",
       "      <td>54.545455</td>\n",
       "      <td>94.545455</td>\n",
       "      <td>96.052632</td>\n",
       "      <td>96.481481</td>\n",
       "    </tr>\n",
       "    <tr>\n",
       "      <th>17</th>\n",
       "      <td>65.454545</td>\n",
       "      <td>93.636364</td>\n",
       "      <td>97.105263</td>\n",
       "      <td>97.592593</td>\n",
       "    </tr>\n",
       "    <tr>\n",
       "      <th>19</th>\n",
       "      <td>48.181818</td>\n",
       "      <td>93.636364</td>\n",
       "      <td>95.789474</td>\n",
       "      <td>96.296296</td>\n",
       "    </tr>\n",
       "  </tbody>\n",
       "</table>\n",
       "</div>"
      ],
      "text/plain": [
       "          0.2        0.4        0.7        1.0\n",
       "1   94.545455  92.727273  97.105263  95.185185\n",
       "3   95.454545  92.727273  96.052632  95.185185\n",
       "5   90.909091  96.818182  96.315789  95.185185\n",
       "7   94.545455  93.636364  93.947368  95.370370\n",
       "9   80.000000  97.272727  97.631579  96.851852\n",
       "11  80.909091  95.909091  96.315789  97.407407\n",
       "13  75.454545  94.545455  95.263158  95.555556\n",
       "15  54.545455  94.545455  96.052632  96.481481\n",
       "17  65.454545  93.636364  97.105263  97.592593\n",
       "19  48.181818  93.636364  95.789474  96.296296"
      ]
     },
     "execution_count": 15,
     "metadata": {},
     "output_type": "execute_result"
    }
   ],
   "source": [
    "breast_cancer"
   ]
  },
  {
   "cell_type": "code",
   "execution_count": 16,
   "metadata": {},
   "outputs": [
    {
     "data": {
      "image/png": "[encoded data removed]",
      "text/plain": [
       "<Figure size 576x432 with 1 Axes>"
      ]
     },
     "metadata": {},
     "output_type": "display_data"
    }
   ],
   "source": [
    "axes_breast=breast_cancer.plot.line(\n",
    "    figsize=(8, 6),\n",
    "    rot=0,\n",
    "#     width=0.8,\n",
    "    xlabel='K',\n",
    "    ylabel='Precision(%)',\n",
    "    xticks=Ks,\n",
    "    title='Dataset: Breast Cancer'\n",
    ")\n",
    "axes_breast.legend(loc=1)\n",
    "plt.gcf().savefig('breast_statistics.png')"
   ]
  },
  {
   "cell_type": "code",
   "execution_count": 17,
   "metadata": {},
   "outputs": [],
   "source": [
    "wine=adjust(datasets.load_wine(), sample_rates, Ks)"
   ]
  },
  {
   "cell_type": "code",
   "execution_count": 18,
   "metadata": {},
   "outputs": [
    {
     "data": {
      "image/png": "[encoded data removed]",
      "text/plain": [
       "<Figure size 576x432 with 1 Axes>"
      ]
     },
     "metadata": {},
     "output_type": "display_data"
    }
   ],
   "source": [
    "axes_wine=wine.plot.line(\n",
    "    figsize=(8, 6),\n",
    "    rot=0,\n",
    "#     width=0.8,\n",
    "    xlabel='K',\n",
    "    ylabel='Precision(%)',\n",
    "    xticks=Ks,\n",
    "    title='Dataset: wine'\n",
    ")\n",
    "axes_wine.legend(loc=1)\n",
    "plt.gcf().savefig('wine_statistics.png')"
   ]
  },
  {
   "cell_type": "markdown",
   "metadata": {},
   "source": [
    "### 分析产生相关结果的原因"
   ]
  },
  {
   "cell_type": "code",
   "execution_count": null,
   "metadata": {},
   "outputs": [],
   "source": []
  },
  {
   "cell_type": "markdown",
   "metadata": {},
   "source": [
    "#### 提供自适应的超参数选择策略"
   ]
  },
  {
   "cell_type": "code",
   "execution_count": 19,
   "metadata": {},
   "outputs": [],
   "source": [
    "def kfold(X_train, y_train, Ks, kfold=5, val_error=True):\n",
    "    ret = {}\n",
    "    X_train=minmax_scaling(X_train, columns=list(range(X_train.shape[1])))\n",
    "    data=np.c_[X_train, y_train]\n",
    "    random.shuffle(data)\n",
    "    fold_size=len(data)//kfold\n",
    "\n",
    "    for K in Ks:\n",
    "        for i in range(kfold):\n",
    "            idx_val=list(range(i*fold_size, (i+1)*fold_size-1))\n",
    "            idx_train = ~np.isin(list(range(len(data))), idx_val)\n",
    "            X_train=data[idx_train, :-1]\n",
    "            y_train=data[idx_train, -1]\n",
    "            X_val  =data[idx_val, :-1]\n",
    "            y_val  =data[idx_val, -1]\n",
    "            \n",
    "#             print(idx_val)\n",
    "#             print(K, X_train.shape[1], y_train)\n",
    "            knn = KNN(X_train, y_train, K, 2)\n",
    "            ret[K]=ret.setdefault(K, 0)+knn.score(X_val, y_val)\n",
    "        \n",
    "        ret[K]/=kfold\n",
    "        ret[K]=(1-ret[K])*100\n",
    "    \n",
    "    min_error_k = sorted(ret.items(), key=lambda pair:pair[1])[0][0]\n",
    "    min_error_rate = ret[min_error_k]\n",
    "    for k, v in ret.items():\n",
    "        if v==min_error_rate and k>min_error_k:\n",
    "            min_error_k=k\n",
    "    \n",
    "    return min_error_k, ret"
   ]
  },
  {
   "cell_type": "code",
   "execution_count": 20,
   "metadata": {},
   "outputs": [],
   "source": [
    "breast_cancer = datasets.load_breast_cancer()\n",
    "X_train, X_test, y_train, y_test=train_test_split(breast_cancer.data, breast_cancer.target, test_size=0.2, random_state=True)"
   ]
  },
  {
   "cell_type": "code",
   "execution_count": 21,
   "metadata": {},
   "outputs": [],
   "source": [
    "min_error_k, error_val = kfold(X_train, y_train, range(2, 21))"
   ]
  },
  {
   "cell_type": "code",
   "execution_count": 22,
   "metadata": {},
   "outputs": [
    {
     "data": {
      "text/plain": [
       "2"
      ]
     },
     "execution_count": 22,
     "metadata": {},
     "output_type": "execute_result"
    }
   ],
   "source": [
    "min_error_k"
   ]
  },
  {
   "cell_type": "code",
   "execution_count": 23,
   "metadata": {},
   "outputs": [
    {
     "data": {
      "image/png": "[encoded data removed]",
      "text/plain": [
       "<Figure size 576x432 with 1 Axes>"
      ]
     },
     "metadata": {},
     "output_type": "display_data"
    }
   ],
   "source": [
    "pd.DataFrame(error_val.values(), index=range(2, 21)).plot.line(\n",
    "    xticks=range(1, 21), \n",
    "    legend=None,\n",
    "    xlabel='K',\n",
    "    ylabel='error rate (%)',\n",
    "    title='Dataset: breast cancer',\n",
    "    figsize=(8, 6)\n",
    ")\n",
    "plt.gcf().savefig('breast cancer k.png')"
   ]
  },
  {
   "cell_type": "code",
   "execution_count": 24,
   "metadata": {},
   "outputs": [],
   "source": [
    "iris=datasets.load_iris()\n",
    "X_train, _, y_train, _=train_test_split(iris.data, iris.target, test_size=0.2, random_state=True)\n",
    "min_error_k, error_val=kfold(X_train, y_train, range(2, 21))"
   ]
  },
  {
   "cell_type": "code",
   "execution_count": 25,
   "metadata": {},
   "outputs": [
    {
     "data": {
      "text/plain": [
       "9"
      ]
     },
     "execution_count": 25,
     "metadata": {},
     "output_type": "execute_result"
    }
   ],
   "source": [
    "min_error_k"
   ]
  },
  {
   "cell_type": "code",
   "execution_count": 26,
   "metadata": {},
   "outputs": [
    {
     "data": {
      "image/png": "[encoded data removed]",
      "text/plain": [
       "<Figure size 576x432 with 1 Axes>"
      ]
     },
     "metadata": {},
     "output_type": "display_data"
    }
   ],
   "source": [
    "pd.DataFrame(error_val.values(), index=range(2, 21)).plot.line(\n",
    "    xticks=range(1, 21),\n",
    "    legend=None,\n",
    "    xlabel='K',\n",
    "    ylabel='error rate (%)',\n",
    "    title='Dataset: iris', \n",
    "    figsize=(8, 6)\n",
    ")\n",
    "plt.gcf().savefig('iris k value.png')"
   ]
  },
  {
   "cell_type": "markdown",
   "metadata": {},
   "source": [
    "#### 使用kd-tree算法提高算法效率"
   ]
  },
  {
   "cell_type": "code",
   "execution_count": 27,
   "metadata": {},
   "outputs": [],
   "source": [
    "import operator\n",
    "import datetime\n",
    "import numpy as np\n",
    "import pandas as pd"
   ]
  },
  {
   "cell_type": "code",
   "execution_count": 28,
   "metadata": {},
   "outputs": [],
   "source": [
    "#KNN类定义\n",
    "class KNN:\n",
    "    def __init__(self, X_train, y_train, n_neighbors=3, p=2): # 通过n_neighbors修改k值\n",
    "        \"\"\"\n",
    "        parameter: n_neighbors 临近点个数\n",
    "        parameter: p 距离度量\n",
    "        \"\"\"\n",
    "        self.n = n_neighbors\n",
    "        self.p = p\n",
    "        self.X_train = X_train\n",
    "        self.y_train = y_train\n",
    "\n",
    "    def predict(self, X):\n",
    "        # 取出n个点\n",
    "        knn_list = []\n",
    "        for i in range(self.n):\n",
    "#             print(i)\n",
    "            dist = np.linalg.norm(X - self.X_train[i], ord=self.p)\n",
    "            knn_list.append((dist, self.y_train[i]))\n",
    "\n",
    "        for i in range(self.n, len(self.X_train)):\n",
    "            max_index = knn_list.index(max(knn_list, key=lambda x: x[0]))\n",
    "            dist = np.linalg.norm(X - self.X_train[i], ord=self.p)\n",
    "            if knn_list[max_index][0] > dist:\n",
    "                knn_list[max_index] = (dist, self.y_train[i])\n",
    "\n",
    "        # 统计\n",
    "        knn = [k[-1] for k in knn_list]\n",
    "        count_pairs = Counter(knn)\n",
    "#         max_count = sorted(count_pairs, key=lambda x: x)[-1]\n",
    "        max_count = sorted(count_pairs.items(), key=lambda x: x[1])[-1][0]\n",
    "        return max_count\n",
    "    \n",
    "    @timeit\n",
    "    def score(self, X_test, y_test):\n",
    "        right_count = 0\n",
    "        n = 10\n",
    "        for X, y in zip(X_test, y_test):\n",
    "            label = self.predict(X)\n",
    "            if label == y:\n",
    "                right_count += 1\n",
    "        return right_count / len(X_test)"
   ]
  },
  {
   "cell_type": "code",
   "execution_count": 29,
   "metadata": {},
   "outputs": [],
   "source": [
    "class kdtree(object):\n",
    "    \n",
    "    # 创建 kdtree\n",
    "    # point_list 是一个 list 的 pair，pair[0] 是一 tuple 的特征，pair[1] 是类别\n",
    "    def __init__(self, point_list, depth=0, root=None):\n",
    "        \n",
    "        if len(point_list)>0:\n",
    "            \n",
    "            # 轮换按照树深度选择坐标轴\n",
    "            k = len(point_list[0][0])\n",
    "            axis = depth % k\n",
    "            \n",
    "            # 选中位线，切\n",
    "            point_list.sort(key=lambda x:x[0][axis])\n",
    "            median = len(point_list) // 2\n",
    "            \n",
    "            self.axis = axis\n",
    "            self.root = root\n",
    "            self.size = len(point_list)\n",
    "            \n",
    "            # 造节点\n",
    "            self.node = point_list[median]\n",
    "            # 递归造左枝和右枝\n",
    "            if len(point_list[:median])>0:\n",
    "                self.left = kdtree(point_list[:median], depth+1, self)\n",
    "            else:\n",
    "                self.left = None\n",
    "            if len(point_list[median+1:])>0:\n",
    "                self.right = kdtree(point_list[median+1:], depth+1, self)\n",
    "            else:\n",
    "                self.right = None\n",
    "            # 记录是按哪个方向切的还有树根\n",
    "\n",
    "        else:\n",
    "            return None\n",
    "    \n",
    "    # 在树上加一点\n",
    "    def insert(self, point):\n",
    "        self.size += 1\n",
    "        \n",
    "        # 分析是左还是右，递归加在叶子上\n",
    "        if point[0][self.axis]<self.node[0][self.axis]:\n",
    "            if self.left!=None:\n",
    "                self.left.insert(point)\n",
    "            else:\n",
    "                self.left = kdtree([point], self.axis+1, self)\n",
    "        else:\n",
    "            if self.right!=None:\n",
    "                self.right.insert(point)\n",
    "            else:\n",
    "                self.right = kdtree([point], self.axis+1, self)\n",
    "            \n",
    "            \n",
    "    # 输入一点\n",
    "    # 按切分寻找叶子\n",
    "    def find_leaf(self, point):\n",
    "        if self.left==None and self.right==None:\n",
    "            return self\n",
    "        elif self.left==None:\n",
    "            return self.right.find_leaf(point)\n",
    "        elif self.right==None:\n",
    "            return self.left.find_leaf(point)\n",
    "        elif point[0][self.axis]<self.node[0][self.axis]:\n",
    "            return self.left.find_leaf(point)\n",
    "        else:\n",
    "            return self.right.find_leaf(point)\n",
    "        \n",
    "\n",
    "    # 查找最近的 k 个点，复杂度 O(DlogN)，D是维度，N是树的大小\n",
    "    # 输入一点、一距离函数、一k。距离函数默认是 L_2\n",
    "    def knearest(self, point, k=1, dist=lambda x,y: sum(map(lambda u,v:(u-v)**2,x,y))):\n",
    "        # 往下戳到最底叶\n",
    "        leaf = self.find_leaf(point)\n",
    "        # 从叶子往上爬\n",
    "        return leaf.k_down_up(point, k, dist, result=[], stop=self, visited=None)\n",
    "\n",
    "\n",
    "    # 从下往上爬函数，stop是到哪里去，visited是从哪里来\n",
    "    def k_down_up(self, point,k, dist, result=[],stop=None, visited=None):\n",
    "\n",
    "        # 选最长距离\n",
    "        if result==[]:\n",
    "            max_dist = 0\n",
    "        else:\n",
    "            max_dist = max([x[1] for x in result])\n",
    "\n",
    "        other_result=[]\n",
    "        \n",
    "#         print(self.node[0][self.axis])\n",
    "#         print(point[0][self.axis])\n",
    "#         print(max_dist)\n",
    "        \n",
    "        # 如果离分界线的距离小于现有最大距离，或者数据点不够，就从另一边的树根开始刨\n",
    "        if (self.left==visited and self.node[0][self.axis]-point[0][self.axis]<max_dist and self.right!=None)\\\n",
    "            or (len(result)<k and self.left==visited and self.right!=None):\n",
    "            other_result=self.right.knearest(point,k, dist)\n",
    "    \n",
    "        if (self.right==visited and point[0][self.axis]-self.node[0][self.axis]<max_dist and self.left!=None)\\\n",
    "            or (len(result)<k and self.right==visited and self.left!=None):\n",
    "            other_result=self.left.knearest(point, k, dist)\n",
    "\n",
    "        # 刨出来的点放一起，选前 k 个\n",
    "        result.append((self.node, dist(point[0], self.node[0])))\n",
    "        result = sorted(result+other_result, key=lambda pair: pair[1])[:k]\n",
    "\n",
    "        # 到停点就返回结果\n",
    "        if self==stop:\n",
    "            return result\n",
    "        # 没有就带着现有结果接着往上爬\n",
    "        else:\n",
    "            return self.root.k_down_up(point,k,  dist, result, stop, self)\n",
    "\n",
    "    # 输入 特征、类别、k、距离函数\n",
    "    # 返回这个点属于该类别的概率\n",
    "    def kNN_prob(self, point, label, k, dist=lambda x,y: sum(map(lambda u,v:(u-v)**2,x,y))):\n",
    "        nearests = self.knearest(point,  k, dist)\n",
    "        return float(len([pair for pair in nearests if pair[0][1]==label]))/float(len(nearests))\n",
    "\n",
    "\n",
    "    # 输入 特征、k、距离函数\n",
    "    # 返回该点概率最大的类别以及相对应的概率\n",
    "    def kNN(self, point, k, dist=lambda x,y: sum(map(lambda u,v:(u-v)**2,x,y))):\n",
    "        nearests = self.knearest(point, k , dist)\n",
    "\n",
    "        statistics = {}\n",
    "        for data in nearests:\n",
    "            label = data[0][1]\n",
    "            if label not in statistics: \n",
    "                statistics[label] = 1\n",
    "            else:\n",
    "                statistics[label] += 1\n",
    "        \n",
    "#         print(statistics)\n",
    "        max_label = max(statistics.items(), key=operator.itemgetter(1))[0]\n",
    "        return max_label, float(statistics[max_label])/float(len(nearests))\n",
    "    \n",
    "    @timeit\n",
    "    def score(self, test_data, k):\n",
    "        right_count=0\n",
    "        for point in test_data:\n",
    "            label, _=self.kNN(point, k)\n",
    "            if(label==point[1]):\n",
    "                right_count+=1\n",
    "        return right_count/len(test_data)"
   ]
  },
  {
   "cell_type": "markdown",
   "metadata": {},
   "source": [
    "##### iris数据集"
   ]
  },
  {
   "cell_type": "code",
   "execution_count": 66,
   "metadata": {},
   "outputs": [],
   "source": [
    "breast_cancer = datasets.load_iris()\n",
    "data = np.c_[breast_cancer.data, breast_cancer.target]\n",
    "data = minmax_scaling(data, columns=range(data.shape[1]-1))\n",
    "data = np.c_[data, breast_cancer.target]"
   ]
  },
  {
   "cell_type": "code",
   "execution_count": 67,
   "metadata": {},
   "outputs": [
    {
     "data": {
      "text/plain": [
       "array([[0.22222222, 0.625     , 0.06779661, 0.04166667, 0.        ],\n",
       "       [0.16666667, 0.41666667, 0.06779661, 0.04166667, 0.        ],\n",
       "       [0.11111111, 0.5       , 0.05084746, 0.04166667, 0.        ],\n",
       "       [0.08333333, 0.45833333, 0.08474576, 0.04166667, 0.        ],\n",
       "       [0.19444444, 0.66666667, 0.06779661, 0.04166667, 0.        ],\n",
       "       [0.30555556, 0.79166667, 0.11864407, 0.125     , 0.        ],\n",
       "       [0.08333333, 0.58333333, 0.06779661, 0.08333333, 0.        ],\n",
       "       [0.19444444, 0.58333333, 0.08474576, 0.04166667, 0.        ],\n",
       "       [0.02777778, 0.375     , 0.06779661, 0.04166667, 0.        ],\n",
       "       [0.16666667, 0.45833333, 0.08474576, 0.        , 0.        ],\n",
       "       [0.30555556, 0.70833333, 0.08474576, 0.04166667, 0.        ],\n",
       "       [0.13888889, 0.58333333, 0.10169492, 0.04166667, 0.        ],\n",
       "       [0.13888889, 0.41666667, 0.06779661, 0.        , 0.        ],\n",
       "       [0.        , 0.41666667, 0.01694915, 0.        , 0.        ],\n",
       "       [0.41666667, 0.83333333, 0.03389831, 0.04166667, 0.        ],\n",
       "       [0.38888889, 1.        , 0.08474576, 0.125     , 0.        ],\n",
       "       [0.30555556, 0.79166667, 0.05084746, 0.125     , 0.        ],\n",
       "       [0.22222222, 0.625     , 0.06779661, 0.08333333, 0.        ],\n",
       "       [0.38888889, 0.75      , 0.11864407, 0.08333333, 0.        ],\n",
       "       [0.22222222, 0.75      , 0.08474576, 0.08333333, 0.        ],\n",
       "       [0.30555556, 0.58333333, 0.11864407, 0.04166667, 0.        ],\n",
       "       [0.22222222, 0.70833333, 0.08474576, 0.125     , 0.        ],\n",
       "       [0.08333333, 0.66666667, 0.        , 0.04166667, 0.        ],\n",
       "       [0.22222222, 0.54166667, 0.11864407, 0.16666667, 0.        ],\n",
       "       [0.13888889, 0.58333333, 0.15254237, 0.04166667, 0.        ],\n",
       "       [0.19444444, 0.41666667, 0.10169492, 0.04166667, 0.        ],\n",
       "       [0.19444444, 0.58333333, 0.10169492, 0.125     , 0.        ],\n",
       "       [0.25      , 0.625     , 0.08474576, 0.04166667, 0.        ],\n",
       "       [0.25      , 0.58333333, 0.06779661, 0.04166667, 0.        ],\n",
       "       [0.11111111, 0.5       , 0.10169492, 0.04166667, 0.        ],\n",
       "       [0.13888889, 0.45833333, 0.10169492, 0.04166667, 0.        ],\n",
       "       [0.30555556, 0.58333333, 0.08474576, 0.125     , 0.        ],\n",
       "       [0.25      , 0.875     , 0.08474576, 0.        , 0.        ],\n",
       "       [0.33333333, 0.91666667, 0.06779661, 0.04166667, 0.        ],\n",
       "       [0.16666667, 0.45833333, 0.08474576, 0.04166667, 0.        ],\n",
       "       [0.19444444, 0.5       , 0.03389831, 0.04166667, 0.        ],\n",
       "       [0.33333333, 0.625     , 0.05084746, 0.04166667, 0.        ],\n",
       "       [0.16666667, 0.66666667, 0.06779661, 0.        , 0.        ],\n",
       "       [0.02777778, 0.41666667, 0.05084746, 0.04166667, 0.        ],\n",
       "       [0.22222222, 0.58333333, 0.08474576, 0.04166667, 0.        ],\n",
       "       [0.19444444, 0.625     , 0.05084746, 0.08333333, 0.        ],\n",
       "       [0.05555556, 0.125     , 0.05084746, 0.08333333, 0.        ],\n",
       "       [0.02777778, 0.5       , 0.05084746, 0.04166667, 0.        ],\n",
       "       [0.19444444, 0.625     , 0.10169492, 0.20833333, 0.        ],\n",
       "       [0.22222222, 0.75      , 0.15254237, 0.125     , 0.        ],\n",
       "       [0.13888889, 0.41666667, 0.06779661, 0.08333333, 0.        ],\n",
       "       [0.22222222, 0.75      , 0.10169492, 0.04166667, 0.        ],\n",
       "       [0.08333333, 0.5       , 0.06779661, 0.04166667, 0.        ],\n",
       "       [0.27777778, 0.70833333, 0.08474576, 0.04166667, 0.        ],\n",
       "       [0.19444444, 0.54166667, 0.06779661, 0.04166667, 0.        ],\n",
       "       [0.75      , 0.5       , 0.62711864, 0.54166667, 1.        ],\n",
       "       [0.58333333, 0.5       , 0.59322034, 0.58333333, 1.        ],\n",
       "       [0.72222222, 0.45833333, 0.66101695, 0.58333333, 1.        ],\n",
       "       [0.33333333, 0.125     , 0.50847458, 0.5       , 1.        ],\n",
       "       [0.61111111, 0.33333333, 0.61016949, 0.58333333, 1.        ],\n",
       "       [0.38888889, 0.33333333, 0.59322034, 0.5       , 1.        ],\n",
       "       [0.55555556, 0.54166667, 0.62711864, 0.625     , 1.        ],\n",
       "       [0.16666667, 0.16666667, 0.38983051, 0.375     , 1.        ],\n",
       "       [0.63888889, 0.375     , 0.61016949, 0.5       , 1.        ],\n",
       "       [0.25      , 0.29166667, 0.49152542, 0.54166667, 1.        ],\n",
       "       [0.19444444, 0.        , 0.42372881, 0.375     , 1.        ],\n",
       "       [0.44444444, 0.41666667, 0.54237288, 0.58333333, 1.        ],\n",
       "       [0.47222222, 0.08333333, 0.50847458, 0.375     , 1.        ],\n",
       "       [0.5       , 0.375     , 0.62711864, 0.54166667, 1.        ],\n",
       "       [0.36111111, 0.375     , 0.44067797, 0.5       , 1.        ],\n",
       "       [0.66666667, 0.45833333, 0.57627119, 0.54166667, 1.        ],\n",
       "       [0.36111111, 0.41666667, 0.59322034, 0.58333333, 1.        ],\n",
       "       [0.41666667, 0.29166667, 0.52542373, 0.375     , 1.        ],\n",
       "       [0.52777778, 0.08333333, 0.59322034, 0.58333333, 1.        ],\n",
       "       [0.36111111, 0.20833333, 0.49152542, 0.41666667, 1.        ],\n",
       "       [0.44444444, 0.5       , 0.6440678 , 0.70833333, 1.        ],\n",
       "       [0.5       , 0.33333333, 0.50847458, 0.5       , 1.        ],\n",
       "       [0.55555556, 0.20833333, 0.66101695, 0.58333333, 1.        ],\n",
       "       [0.5       , 0.33333333, 0.62711864, 0.45833333, 1.        ],\n",
       "       [0.58333333, 0.375     , 0.55932203, 0.5       , 1.        ],\n",
       "       [0.63888889, 0.41666667, 0.57627119, 0.54166667, 1.        ],\n",
       "       [0.69444444, 0.33333333, 0.6440678 , 0.54166667, 1.        ],\n",
       "       [0.66666667, 0.41666667, 0.6779661 , 0.66666667, 1.        ],\n",
       "       [0.47222222, 0.375     , 0.59322034, 0.58333333, 1.        ],\n",
       "       [0.38888889, 0.25      , 0.42372881, 0.375     , 1.        ],\n",
       "       [0.33333333, 0.16666667, 0.47457627, 0.41666667, 1.        ],\n",
       "       [0.33333333, 0.16666667, 0.45762712, 0.375     , 1.        ],\n",
       "       [0.41666667, 0.29166667, 0.49152542, 0.45833333, 1.        ],\n",
       "       [0.47222222, 0.29166667, 0.69491525, 0.625     , 1.        ],\n",
       "       [0.30555556, 0.41666667, 0.59322034, 0.58333333, 1.        ],\n",
       "       [0.47222222, 0.58333333, 0.59322034, 0.625     , 1.        ],\n",
       "       [0.66666667, 0.45833333, 0.62711864, 0.58333333, 1.        ],\n",
       "       [0.55555556, 0.125     , 0.57627119, 0.5       , 1.        ],\n",
       "       [0.36111111, 0.41666667, 0.52542373, 0.5       , 1.        ],\n",
       "       [0.33333333, 0.20833333, 0.50847458, 0.5       , 1.        ],\n",
       "       [0.33333333, 0.25      , 0.57627119, 0.45833333, 1.        ],\n",
       "       [0.5       , 0.41666667, 0.61016949, 0.54166667, 1.        ],\n",
       "       [0.41666667, 0.25      , 0.50847458, 0.45833333, 1.        ],\n",
       "       [0.19444444, 0.125     , 0.38983051, 0.375     , 1.        ],\n",
       "       [0.36111111, 0.29166667, 0.54237288, 0.5       , 1.        ],\n",
       "       [0.38888889, 0.41666667, 0.54237288, 0.45833333, 1.        ],\n",
       "       [0.38888889, 0.375     , 0.54237288, 0.5       , 1.        ],\n",
       "       [0.52777778, 0.375     , 0.55932203, 0.5       , 1.        ],\n",
       "       [0.22222222, 0.20833333, 0.33898305, 0.41666667, 1.        ],\n",
       "       [0.38888889, 0.33333333, 0.52542373, 0.5       , 1.        ],\n",
       "       [0.55555556, 0.54166667, 0.84745763, 1.        , 2.        ],\n",
       "       [0.41666667, 0.29166667, 0.69491525, 0.75      , 2.        ],\n",
       "       [0.77777778, 0.41666667, 0.83050847, 0.83333333, 2.        ],\n",
       "       [0.55555556, 0.375     , 0.77966102, 0.70833333, 2.        ],\n",
       "       [0.61111111, 0.41666667, 0.81355932, 0.875     , 2.        ],\n",
       "       [0.91666667, 0.41666667, 0.94915254, 0.83333333, 2.        ],\n",
       "       [0.16666667, 0.20833333, 0.59322034, 0.66666667, 2.        ],\n",
       "       [0.83333333, 0.375     , 0.89830508, 0.70833333, 2.        ],\n",
       "       [0.66666667, 0.20833333, 0.81355932, 0.70833333, 2.        ],\n",
       "       [0.80555556, 0.66666667, 0.86440678, 1.        , 2.        ],\n",
       "       [0.61111111, 0.5       , 0.69491525, 0.79166667, 2.        ],\n",
       "       [0.58333333, 0.29166667, 0.72881356, 0.75      , 2.        ],\n",
       "       [0.69444444, 0.41666667, 0.76271186, 0.83333333, 2.        ],\n",
       "       [0.38888889, 0.20833333, 0.6779661 , 0.79166667, 2.        ],\n",
       "       [0.41666667, 0.33333333, 0.69491525, 0.95833333, 2.        ],\n",
       "       [0.58333333, 0.5       , 0.72881356, 0.91666667, 2.        ],\n",
       "       [0.61111111, 0.41666667, 0.76271186, 0.70833333, 2.        ],\n",
       "       [0.94444444, 0.75      , 0.96610169, 0.875     , 2.        ],\n",
       "       [0.94444444, 0.25      , 1.        , 0.91666667, 2.        ],\n",
       "       [0.47222222, 0.08333333, 0.6779661 , 0.58333333, 2.        ],\n",
       "       [0.72222222, 0.5       , 0.79661017, 0.91666667, 2.        ],\n",
       "       [0.36111111, 0.33333333, 0.66101695, 0.79166667, 2.        ],\n",
       "       [0.94444444, 0.33333333, 0.96610169, 0.79166667, 2.        ],\n",
       "       [0.55555556, 0.29166667, 0.66101695, 0.70833333, 2.        ],\n",
       "       [0.66666667, 0.54166667, 0.79661017, 0.83333333, 2.        ],\n",
       "       [0.80555556, 0.5       , 0.84745763, 0.70833333, 2.        ],\n",
       "       [0.52777778, 0.33333333, 0.6440678 , 0.70833333, 2.        ],\n",
       "       [0.5       , 0.41666667, 0.66101695, 0.70833333, 2.        ],\n",
       "       [0.58333333, 0.33333333, 0.77966102, 0.83333333, 2.        ],\n",
       "       [0.80555556, 0.41666667, 0.81355932, 0.625     , 2.        ],\n",
       "       [0.86111111, 0.33333333, 0.86440678, 0.75      , 2.        ],\n",
       "       [1.        , 0.75      , 0.91525424, 0.79166667, 2.        ],\n",
       "       [0.58333333, 0.33333333, 0.77966102, 0.875     , 2.        ],\n",
       "       [0.55555556, 0.33333333, 0.69491525, 0.58333333, 2.        ],\n",
       "       [0.5       , 0.25      , 0.77966102, 0.54166667, 2.        ],\n",
       "       [0.94444444, 0.41666667, 0.86440678, 0.91666667, 2.        ],\n",
       "       [0.55555556, 0.58333333, 0.77966102, 0.95833333, 2.        ],\n",
       "       [0.58333333, 0.45833333, 0.76271186, 0.70833333, 2.        ],\n",
       "       [0.47222222, 0.41666667, 0.6440678 , 0.70833333, 2.        ],\n",
       "       [0.72222222, 0.45833333, 0.74576271, 0.83333333, 2.        ],\n",
       "       [0.66666667, 0.45833333, 0.77966102, 0.95833333, 2.        ],\n",
       "       [0.72222222, 0.45833333, 0.69491525, 0.91666667, 2.        ],\n",
       "       [0.41666667, 0.29166667, 0.69491525, 0.75      , 2.        ],\n",
       "       [0.69444444, 0.5       , 0.83050847, 0.91666667, 2.        ],\n",
       "       [0.66666667, 0.54166667, 0.79661017, 1.        , 2.        ],\n",
       "       [0.66666667, 0.41666667, 0.71186441, 0.91666667, 2.        ],\n",
       "       [0.55555556, 0.20833333, 0.6779661 , 0.75      , 2.        ],\n",
       "       [0.61111111, 0.41666667, 0.71186441, 0.79166667, 2.        ],\n",
       "       [0.52777778, 0.58333333, 0.74576271, 0.91666667, 2.        ],\n",
       "       [0.44444444, 0.41666667, 0.69491525, 0.70833333, 2.        ]])"
      ]
     },
     "execution_count": 67,
     "metadata": {},
     "output_type": "execute_result"
    }
   ],
   "source": [
    "data"
   ]
  },
  {
   "cell_type": "code",
   "execution_count": 68,
   "metadata": {},
   "outputs": [],
   "source": [
    "random.shuffle(data)\n",
    "train_rate=0.7\n",
    "nSample=math.floor(len(data)*train_rate)\n",
    "idx_train = random.sample(range(len(data)), nSample)\n",
    "idx_test  = ~np.isin(range(len(data)), idx_train)"
   ]
  },
  {
   "cell_type": "code",
   "execution_count": 69,
   "metadata": {},
   "outputs": [],
   "source": [
    "train_data = data[idx_train, :]\n",
    "test_data  = data[idx_test, :]"
   ]
  },
  {
   "cell_type": "code",
   "execution_count": 70,
   "metadata": {},
   "outputs": [],
   "source": [
    "K=5"
   ]
  },
  {
   "cell_type": "markdown",
   "metadata": {},
   "source": [
    "##### i. brute force"
   ]
  },
  {
   "cell_type": "code",
   "execution_count": 71,
   "metadata": {},
   "outputs": [],
   "source": [
    "brute_X_train=train_data[:, :-1]\n",
    "brute_y_train=train_data[:, -1]\n",
    "brute_X_test=test_data[:, :-1]\n",
    "brute_y_test=test_data[:, -1]"
   ]
  },
  {
   "cell_type": "code",
   "execution_count": 72,
   "metadata": {},
   "outputs": [
    {
     "name": "stdout",
     "output_type": "stream",
     "text": [
      "It takes 0.0369s for function[score] to calculate precision over test set\n"
     ]
    },
    {
     "data": {
      "text/plain": [
       "0.9555555555555556"
      ]
     },
     "execution_count": 72,
     "metadata": {},
     "output_type": "execute_result"
    }
   ],
   "source": [
    "knn = KNN(brute_X_train, brute_y_train, K)\n",
    "knn.score(brute_X_test, brute_y_test)"
   ]
  },
  {
   "cell_type": "markdown",
   "metadata": {},
   "source": [
    "##### ii. kd-tree"
   ]
  },
  {
   "cell_type": "code",
   "execution_count": 73,
   "metadata": {},
   "outputs": [],
   "source": [
    "kd_train_data=list(map(lambda x:[tuple(x[:-1]), x[-1]], train_data))\n",
    "kd_test_data =list(map(lambda x:[tuple(x[:-1]), x[-1]], test_data))"
   ]
  },
  {
   "cell_type": "code",
   "execution_count": 74,
   "metadata": {},
   "outputs": [
    {
     "name": "stdout",
     "output_type": "stream",
     "text": [
      "It takes 0.0080s for function[score] to calculate precision over test set\n"
     ]
    },
    {
     "data": {
      "text/plain": [
       "0.9555555555555556"
      ]
     },
     "execution_count": 74,
     "metadata": {},
     "output_type": "execute_result"
    }
   ],
   "source": [
    "kd_tree=kdtree(kd_train_data)\n",
    "kd_tree.score(kd_test_data, K)"
   ]
  },
  {
   "cell_type": "markdown",
   "metadata": {},
   "source": [
    "##### breast_cancer 数据集"
   ]
  },
  {
   "cell_type": "code",
   "execution_count": 75,
   "metadata": {},
   "outputs": [],
   "source": [
    "K=18"
   ]
  },
  {
   "cell_type": "code",
   "execution_count": 76,
   "metadata": {},
   "outputs": [],
   "source": [
    "breast_cancer = datasets.load_breast_cancer()\n",
    "data = np.c_[breast_cancer.data, breast_cancer.target]\n",
    "data = minmax_scaling(data, columns=range(data.shape[1]-1))\n",
    "data = np.c_[data, breast_cancer.target]"
   ]
  },
  {
   "cell_type": "code",
   "execution_count": 77,
   "metadata": {},
   "outputs": [
    {
     "data": {
      "text/plain": [
       "array([[0.52103744, 0.0226581 , 0.54598853, ..., 0.59846245, 0.41886396,\n",
       "        0.        ],\n",
       "       [0.64314449, 0.27257355, 0.61578329, ..., 0.23358959, 0.22287813,\n",
       "        0.        ],\n",
       "       [0.60149557, 0.3902604 , 0.59574321, ..., 0.40370589, 0.21343303,\n",
       "        0.        ],\n",
       "       ...,\n",
       "       [0.45525108, 0.62123774, 0.44578813, ..., 0.12872068, 0.1519087 ,\n",
       "        0.        ],\n",
       "       [0.64456434, 0.66351031, 0.66553797, ..., 0.49714173, 0.45231536,\n",
       "        0.        ],\n",
       "       [0.03686876, 0.50152181, 0.02853984, ..., 0.25744136, 0.10068215,\n",
       "        1.        ]])"
      ]
     },
     "execution_count": 77,
     "metadata": {},
     "output_type": "execute_result"
    }
   ],
   "source": [
    "data"
   ]
  },
  {
   "cell_type": "code",
   "execution_count": 78,
   "metadata": {},
   "outputs": [],
   "source": [
    "random.shuffle(data)\n",
    "train_rate=0.7\n",
    "nSample=math.floor(len(data)*train_rate)\n",
    "idx_train = random.sample(range(len(data)), nSample)\n",
    "idx_test  = ~np.isin(range(len(data)), idx_train)"
   ]
  },
  {
   "cell_type": "code",
   "execution_count": 79,
   "metadata": {},
   "outputs": [],
   "source": [
    "train_data = data[idx_train, :]\n",
    "test_data  = data[idx_test, :]"
   ]
  },
  {
   "cell_type": "markdown",
   "metadata": {},
   "source": [
    "##### i. brute force"
   ]
  },
  {
   "cell_type": "code",
   "execution_count": 80,
   "metadata": {},
   "outputs": [],
   "source": [
    "brute_X_train=train_data[:, :-1]\n",
    "brute_y_train=train_data[:, -1]\n",
    "brute_X_test=test_data[:, :-1]\n",
    "brute_y_test=test_data[:, -1]"
   ]
  },
  {
   "cell_type": "code",
   "execution_count": 81,
   "metadata": {},
   "outputs": [
    {
     "name": "stdout",
     "output_type": "stream",
     "text": [
      "It takes 0.5909s for function[score] to calculate precision over test set\n"
     ]
    },
    {
     "data": {
      "text/plain": [
       "0.9415204678362573"
      ]
     },
     "execution_count": 81,
     "metadata": {},
     "output_type": "execute_result"
    }
   ],
   "source": [
    "knn = KNN(brute_X_train, brute_y_train, K)\n",
    "knn.score(brute_X_test, brute_y_test)"
   ]
  },
  {
   "cell_type": "markdown",
   "metadata": {},
   "source": [
    "##### ii. kd-tree"
   ]
  },
  {
   "cell_type": "code",
   "execution_count": 82,
   "metadata": {},
   "outputs": [],
   "source": [
    "kd_train_data=list(map(lambda x:[tuple(x[:-1]), x[-1]], train_data))\n",
    "kd_test_data =list(map(lambda x:[tuple(x[:-1]), x[-1]], test_data))"
   ]
  },
  {
   "cell_type": "code",
   "execution_count": 83,
   "metadata": {},
   "outputs": [
    {
     "name": "stdout",
     "output_type": "stream",
     "text": [
      "It takes 1.3535s for function[score] to calculate precision over test set\n"
     ]
    },
    {
     "data": {
      "text/plain": [
       "0.9415204678362573"
      ]
     },
     "execution_count": 83,
     "metadata": {},
     "output_type": "execute_result"
    }
   ],
   "source": [
    "kd_tree=kdtree(kd_train_data)\n",
    "kd_tree.score(kd_test_data, K)"
   ]
  },
  {
   "cell_type": "code",
   "execution_count": null,
   "metadata": {},
   "outputs": [],
   "source": []
  }
 ],
 "metadata": {
  "kernelspec": {
   "display_name": "Python 3",
   "language": "python",
   "name": "python3"
  },
  "language_info": {
   "codemirror_mode": {
    "name": "ipython",
    "version": 3
   },
   "file_extension": ".py",
   "mimetype": "text/x-python",
   "name": "python",
   "nbconvert_exporter": "python",
   "pygments_lexer": "ipython3",
   "version": "3.7.3"
  },
  "toc-showmarkdowntxt": false,
  "toc-showtags": false
 },
 "nbformat": 4,
 "nbformat_minor": 4
}
